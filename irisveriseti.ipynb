{
  "nbformat": 4,
  "nbformat_minor": 0,
  "metadata": {
    "colab": {
      "name": "irisveriseti.ipynb",
      "provenance": [],
      "collapsed_sections": [],
      "authorship_tag": "ABX9TyP1U9iTnnnMXM/hxXd804rj",
      "include_colab_link": true
    },
    "kernelspec": {
      "name": "python3",
      "display_name": "Python 3"
    },
    "language_info": {
      "name": "python"
    },
    "accelerator": "GPU"
  },
  "cells": [
    {
      "cell_type": "markdown",
      "metadata": {
        "id": "view-in-github",
        "colab_type": "text"
      },
      "source": [
        "<a href=\"https://colab.research.google.com/github/aylingokbayrak/KOU-AI-PYTHON/blob/main/irisveriseti.ipynb\" target=\"_parent\"><img src=\"https://colab.research.google.com/assets/colab-badge.svg\" alt=\"Open In Colab\"/></a>"
      ]
    },
    {
      "cell_type": "code",
      "metadata": {
        "colab": {
          "base_uri": "https://localhost:8080/",
          "height": 401
        },
        "id": "hiLVHPgHQQNP",
        "outputId": "edcae9f4-cf6d-46ad-d890-0d55ee8cd275"
      },
      "source": [
        "import pandas as pd\n",
        "import seaborn as sns\n",
        "df=pd.DataFrame(data= {\n",
        "    'metrekare':[100,150,120,300,230],\n",
        "    'fiyat':[70,90,95,120,110]\n",
        "})\n",
        "sns.lmplot(x='metrekare',y='fiyat',data=df)"
      ],
      "execution_count": 15,
      "outputs": [
        {
          "output_type": "execute_result",
          "data": {
            "text/plain": [
              "<seaborn.axisgrid.FacetGrid at 0x7f7460df06d0>"
            ]
          },
          "metadata": {},
          "execution_count": 15
        },
        {
          "output_type": "display_data",
          "data": {
            "image/png": "[encoded data removed]",
            "text/plain": [
              "<Figure size 360x360 with 1 Axes>"
            ]
          },
          "metadata": {
            "needs_background": "light"
          }
        }
      ]
    },
    {
      "cell_type": "code",
      "metadata": {
        "colab": {
          "base_uri": "https://localhost:8080/"
        },
        "id": "zQErIBCHUWS-",
        "outputId": "38e08ce2-19f2-4aeb-ee74-a77106c3239a"
      },
      "source": [
        "from sklearn.linear_model import LinearRegression\n",
        "import numpy as np\n",
        "\n",
        "df=pd.DataFrame(data = {\n",
        "    'Metrekare':[100,150,120,300,230],\n",
        "    'Fiyat':[70,90,95,120,110]\n",
        "})\n",
        "\n",
        "x=df.iloc[:, :-1].values\n",
        "y=df.iloc[:,-1].values\n",
        "\n",
        "reg=LinearRegression().fit(x,y)\n",
        "print(f\"score: {reg.score(x,y)}\")\n",
        "print(f\"coeffient: {reg.coef_}\")\n",
        "print(f\"intercept: {reg.intercept_}\")"
      ],
      "execution_count": 24,
      "outputs": [
        {
          "output_type": "stream",
          "name": "stdout",
          "text": [
            "score: 0.8460528874197938\n",
            "coeffient: [0.21223022]\n",
            "intercept: 58.79856115107912\n"
          ]
        }
      ]
    },
    {
      "cell_type": "code",
      "metadata": {
        "colab": {
          "base_uri": "https://localhost:8080/"
        },
        "id": "HtD1uPiTY5k5",
        "outputId": "b7b593fe-372d-48ca-d9bf-2b2c7e9a8f72"
      },
      "source": [
        "etrekare=int(input(\"lutfen gir:\"))\n",
        "print(f\"{etrekare} metrekare evin tahmini fiyatı {reg.predict(np.array([[etrekare]]))}\")"
      ],
      "execution_count": 25,
      "outputs": [
        {
          "output_type": "stream",
          "name": "stdout",
          "text": [
            "lutfen gir:170\n",
            "170 metrekare evin tahmini fiyatı [94.87769784]\n"
          ]
        }
      ]
    },
    {
      "cell_type": "code",
      "metadata": {
        "colab": {
          "base_uri": "https://localhost:8080/"
        },
        "id": "mig-IG8VcRxd",
        "outputId": "d6d284f7-1e97-481d-fa6e-ffb8b704305f"
      },
      "source": [
        "metrekare * reg.coef_[0] + float(reg.intercept_)"
      ],
      "execution_count": 27,
      "outputs": [
        {
          "output_type": "execute_result",
          "data": {
            "text/plain": [
              "94.87769784172662"
            ]
          },
          "metadata": {},
          "execution_count": 27
        }
      ]
    },
    {
      "cell_type": "code",
      "metadata": {
        "colab": {
          "base_uri": "https://localhost:8080/",
          "height": 295
        },
        "id": "8cXVHZ4beiGb",
        "outputId": "88f58c0f-c9cd-4ea8-fbe2-4cf7a248c61b"
      },
      "source": [
        "import pandas as pd\n",
        "import matplotlib.pyplot as plt\n",
        "df=pd.DataFrame(data= {\n",
        "    'metrekare':range(1,101,3)\n",
        "})\n",
        "df['fiyat']=df['metrekare']**3\n",
        "plt.plot(df['metrekare'],df['fiyat'])"
      ],
      "execution_count": 28,
      "outputs": [
        {
          "output_type": "execute_result",
          "data": {
            "text/plain": [
              "[<matplotlib.lines.Line2D at 0x7f745fa3e890>]"
            ]
          },
          "metadata": {},
          "execution_count": 28
        },
        {
          "output_type": "display_data",
          "data": {
            "image/png": "[encoded data removed]",
            "text/plain": [
              "<Figure size 432x288 with 1 Axes>"
            ]
          },
          "metadata": {
            "needs_background": "light"
          }
        }
      ]
    },
    {
      "cell_type": "code",
      "metadata": {
        "colab": {
          "base_uri": "https://localhost:8080/",
          "height": 205
        },
        "id": "q1bbynBJZsAN",
        "outputId": "fc5a9b31-d81b-47ce-a6a6-07b831ac4465"
      },
      "source": [
        "import pandas as pd\n",
        "from sklearn.linear_model import LinearRegression\n",
        "\n",
        "df=pd.DataFrame(data = {\n",
        "    'metrekare':[100,150,120,300,230],\n",
        "    'fiyat':[70,90,95,120,110]\n",
        "})\n",
        "\n",
        "x=df.iloc[:,:-1]\n",
        "y=df.iloc[:,-1]\n",
        "x.head()"
      ],
      "execution_count": 6,
      "outputs": [
        {
          "output_type": "execute_result",
          "data": {
            "text/html": [
              "<div>\n",
              "<style scoped>\n",
              "    .dataframe tbody tr th:only-of-type {\n",
              "        vertical-align: middle;\n",
              "    }\n",
              "\n",
              "    .dataframe tbody tr th {\n",
              "        vertical-align: top;\n",
              "    }\n",
              "\n",
              "    .dataframe thead th {\n",
              "        text-align: right;\n",
              "    }\n",
              "</style>\n",
              "<table border=\"1\" class=\"dataframe\">\n",
              "  <thead>\n",
              "    <tr style=\"text-align: right;\">\n",
              "      <th></th>\n",
              "      <th>metrekare</th>\n",
              "    </tr>\n",
              "  </thead>\n",
              "  <tbody>\n",
              "    <tr>\n",
              "      <th>0</th>\n",
              "      <td>100</td>\n",
              "    </tr>\n",
              "    <tr>\n",
              "      <th>1</th>\n",
              "      <td>150</td>\n",
              "    </tr>\n",
              "    <tr>\n",
              "      <th>2</th>\n",
              "      <td>120</td>\n",
              "    </tr>\n",
              "    <tr>\n",
              "      <th>3</th>\n",
              "      <td>300</td>\n",
              "    </tr>\n",
              "    <tr>\n",
              "      <th>4</th>\n",
              "      <td>230</td>\n",
              "    </tr>\n",
              "  </tbody>\n",
              "</table>\n",
              "</div>"
            ],
            "text/plain": [
              "   metrekare\n",
              "0        100\n",
              "1        150\n",
              "2        120\n",
              "3        300\n",
              "4        230"
            ]
          },
          "metadata": {},
          "execution_count": 6
        }
      ]
    },
    {
      "cell_type": "code",
      "metadata": {
        "colab": {
          "base_uri": "https://localhost:8080/"
        },
        "id": "V2RsMxHwagjM",
        "outputId": "ff7ed9e3-c40d-42d9-f548-cdea82c9bfb2"
      },
      "source": [
        "y.head()"
      ],
      "execution_count": 7,
      "outputs": [
        {
          "output_type": "execute_result",
          "data": {
            "text/plain": [
              "0     70\n",
              "1     90\n",
              "2     95\n",
              "3    120\n",
              "4    110\n",
              "Name: fiyat, dtype: int64"
            ]
          },
          "metadata": {},
          "execution_count": 7
        }
      ]
    },
    {
      "cell_type": "code",
      "metadata": {
        "colab": {
          "base_uri": "https://localhost:8080/"
        },
        "id": "ZvD7PEssajtl",
        "outputId": "e5717934-df67-4186-d111-f84a94abd924"
      },
      "source": [
        "reg=LinearRegression().fit(x,y)\n",
        "\n",
        "toplam_hata=0\n",
        "for idx in range(len(df)):\n",
        "  gercek_fiyat=df.loc[idx]['fiyat']\n",
        "  metrekare=df.loc[idx]['metrekare']\n",
        "\n",
        "  tahmin_fiyat=reg.predict([[metrekare]])[0]\n",
        "\n",
        "  print(f\"{df.loc[idx]['metrekare']} metrekare için gerçek fiyat {gercek_fiyat} hatası {gercek_fiyat-tahmin_fiyat}\")\n",
        "  toplam_hata=gercek_fiyat - tahmin_fiyat\n",
        "\n",
        "  print(f\"\\ntoplam hata: {toplam_hata}\")\n",
        "\n"
      ],
      "execution_count": 15,
      "outputs": [
        {
          "output_type": "stream",
          "name": "stdout",
          "text": [
            "100 metrekare için gerçek fiyat 70 hatası -10.021582733812949\n",
            "\n",
            "toplam hata: -10.021582733812949\n",
            "150 metrekare için gerçek fiyat 90 hatası -0.6330935251798593\n",
            "\n",
            "toplam hata: -0.6330935251798593\n",
            "120 metrekare için gerçek fiyat 95 hatası 10.733812949640296\n",
            "\n",
            "toplam hata: 10.733812949640296\n",
            "300 metrekare için gerçek fiyat 120 hatası -2.4676258992805913\n",
            "\n",
            "toplam hata: -2.4676258992805913\n",
            "230 metrekare için gerçek fiyat 110 hatası 2.3884892086330893\n",
            "\n",
            "toplam hata: 2.3884892086330893\n"
          ]
        }
      ]
    },
    {
      "cell_type": "markdown",
      "metadata": {
        "id": "M_41IMipeNHL"
      },
      "source": [
        "R2 Squared\n"
      ]
    },
    {
      "cell_type": "code",
      "metadata": {
        "colab": {
          "base_uri": "https://localhost:8080/"
        },
        "id": "baZ9MzyneP_n",
        "outputId": "d2e8c56e-4716-43dd-bf7b-ccb366d40e58"
      },
      "source": [
        "from sklearn.linear_model import LinearRegression\n",
        "from sklearn.metrics import r2_score\n",
        "\n",
        "df=pd.DataFrame(data= {\n",
        "    'metrekare':[100,150,120,300,230],\n",
        "    'bina':[5,2,6,10,3],\n",
        "    'fiyat': [70,90,95,120,110]\n",
        "\n",
        "})\n",
        "x=df.iloc[:,:-1].values\n",
        "y=df.iloc[:,-1].values\n",
        "\n",
        "reg=LinearRegression().fit(x,y)\n",
        "y_pred=[]\n",
        "for idx in range(len(df)):\n",
        "  metrekare=df.loc[idx]['metrekare']\n",
        "  bina=df.loc[idx]['bina']\n",
        "\n",
        "  y_pred.append(reg.predict([[metrekare,bina]]))\n",
        "\n",
        "print(reg.score(x,y))\n",
        "print(r2_score(y,y_pred))\n"
      ],
      "execution_count": 22,
      "outputs": [
        {
          "output_type": "stream",
          "name": "stdout",
          "text": [
            "0.8465258951131542\n",
            "0.8465258951131542\n"
          ]
        }
      ]
    },
    {
      "cell_type": "code",
      "metadata": {
        "colab": {
          "base_uri": "https://localhost:8080/"
        },
        "id": "kU4rjFT7oPVD",
        "outputId": "05bec6a5-4053-4386-9913-7aec9586913f"
      },
      "source": [
        "from sklearn.linear_model import LinearRegression\n",
        "from sklearn.metrics import mean_absolute_error\n",
        "\n",
        "df=pd.DataFrame(data= {\n",
        "    'metrekare':[100,150,120,300,230],\n",
        "    'bina':[5,2,6,10,3],\n",
        "    'fiyat': [70,90,95,120,110]\n",
        "\n",
        "})\n",
        "x=df.iloc[:,:-1].values\n",
        "y=df.iloc[:,-1].values\n",
        "\n",
        "reg=LinearRegression().fit(x,y)\n",
        "y_pred=[]\n",
        "for idx in range(len(df)):\n",
        "  metrekare=df.loc[idx]['metrekare']\n",
        "  bina=df.loc[idx]['bina']\n",
        "\n",
        "  y_pred.append(reg.predict([[metrekare,bina]]))\n",
        "\n",
        "print(mean_absolute_error(y,y_pred))\n",
        "\n"
      ],
      "execution_count": 25,
      "outputs": [
        {
          "output_type": "stream",
          "name": "stdout",
          "text": [
            "5.173364755434096\n"
          ]
        }
      ]
    },
    {
      "cell_type": "code",
      "metadata": {
        "colab": {
          "base_uri": "https://localhost:8080/"
        },
        "id": "Bskua1J_s6AL",
        "outputId": "3aa618dc-c34d-4b34-a0ae-5e568767262a"
      },
      "source": [
        "from sklearn.linear_model import LinearRegression\n",
        "from sklearn.metrics import mean_squared_error\n",
        "\n",
        "df=pd.DataFrame(data= {\n",
        "    'metrekare':[100,150,120,300,230],\n",
        "    'bina':[5,2,6,10,3],\n",
        "    'fiyat': [70,90,95,120,110]\n",
        "\n",
        "})\n",
        "x=df.iloc[:,:-1].values\n",
        "y=df.iloc[:,-1].values\n",
        "\n",
        "reg=LinearRegression().fit(x,y)\n",
        "y_pred=[]\n",
        "for idx in range(len(df)):\n",
        "  metrekare=df.loc[idx]['metrekare']\n",
        "  bina=df.loc[idx]['bina']\n",
        "\n",
        "  y_pred.append(reg.predict([[metrekare,bina]]))\n",
        "\n",
        "print(mean_squared_error(y,y_pred))\n",
        "\n"
      ],
      "execution_count": 27,
      "outputs": [
        {
          "output_type": "stream",
          "name": "stdout",
          "text": [
            "45.42833504650633\n"
          ]
        }
      ]
    },
    {
      "cell_type": "code",
      "metadata": {
        "colab": {
          "base_uri": "https://localhost:8080/"
        },
        "id": "-to20yD5R5-4",
        "outputId": "70972f65-559d-4725-9f65-efab6e53a2bc"
      },
      "source": [
        "import numpy as np\n",
        "import pandas as pd\n",
        "from sklearn.model_selection import train_test_split\n",
        "from sklearn.linear_model import LinearRegression\n",
        "\n",
        "\n",
        "df=pd.DataFrame(data ={\n",
        "    'metrekare':[100,150,120,300,230,175,220,270,190,220],\n",
        "    'bina':[5,2,6,10,3,7,6,8,9,4],\n",
        "    'fiyat':[70,90,95,120,110,120,95,140,220,100]\n",
        "})\n",
        "\n",
        "x=df.iloc[:,:-1].values\n",
        "y=df.iloc[:,-1].values\n",
        "\n",
        "x_train,x_test,y_train,y_test=train_test_split(x,y,test_size=0.2,random_state=7)\n",
        "print(x_train.shape)\n",
        "print(x_test.shape)\n",
        "print(y_train.shape)\n",
        "print(y_test.shape)\n"
      ],
      "execution_count": 1,
      "outputs": [
        {
          "output_type": "stream",
          "name": "stdout",
          "text": [
            "(8, 2)\n",
            "(2, 2)\n",
            "(8,)\n",
            "(2,)\n"
          ]
        }
      ]
    },
    {
      "cell_type": "code",
      "metadata": {
        "colab": {
          "base_uri": "https://localhost:8080/"
        },
        "id": "1WV9zAG6Xmvn",
        "outputId": "f64a49d5-e3dc-485f-c4b5-05e91d9f4066"
      },
      "source": [
        "x_train"
      ],
      "execution_count": 2,
      "outputs": [
        {
          "output_type": "execute_result",
          "data": {
            "text/plain": [
              "array([[100,   5],\n",
              "       [120,   6],\n",
              "       [150,   2],\n",
              "       [220,   4],\n",
              "       [270,   8],\n",
              "       [300,  10],\n",
              "       [220,   6],\n",
              "       [230,   3]])"
            ]
          },
          "metadata": {},
          "execution_count": 2
        }
      ]
    },
    {
      "cell_type": "code",
      "metadata": {
        "colab": {
          "base_uri": "https://localhost:8080/"
        },
        "id": "3iO2RzrJXpAx",
        "outputId": "34c4acc6-5956-4ac5-97ec-179707751d9b"
      },
      "source": [
        "x_test"
      ],
      "execution_count": 3,
      "outputs": [
        {
          "output_type": "execute_result",
          "data": {
            "text/plain": [
              "array([[190,   9],\n",
              "       [175,   7]])"
            ]
          },
          "metadata": {},
          "execution_count": 3
        }
      ]
    },
    {
      "cell_type": "code",
      "metadata": {
        "colab": {
          "base_uri": "https://localhost:8080/"
        },
        "id": "g9Qoo0hsnftQ",
        "outputId": "47479bbe-40a0-48c7-980e-a19149594968"
      },
      "source": [
        "import numpy as np\n",
        "import pandas as pd\n",
        "from sklearn.model_selection import train_test_split\n",
        "from sklearn.linear_model import LinearRegression\n",
        "\n",
        "\n",
        "df=pd.DataFrame(data ={\n",
        "    'metrekare':[100,150,120,300,230,175,220,270,190,220],\n",
        "    'bina':[5,2,6,10,3,7,6,8,9,4],\n",
        "    'fiyat':[70,90,95,120,110,120,95,140,220,100]\n",
        "})\n",
        "\n",
        "x=df.iloc[:,:-1].values\n",
        "y=df.iloc[:,-1].values\n",
        "\n",
        "x_train,x_test,y_train,y_test=train_test_split(x,y,test_size=0.2,random_state=7)\n",
        "\n",
        "x_train,x_validasyon,y_train,y_validasyon=train_test_split(x_train,y_train,test_size=2)\n",
        "print(x_train.shape)\n",
        "print(x_test.shape)\n",
        "print(y_train.shape)\n",
        "print(y_test.shape)\n",
        "print(x_validasyon)\n",
        "print(y_validasyon)\n",
        "\n",
        "x_validasyon"
      ],
      "execution_count": 1,
      "outputs": [
        {
          "output_type": "stream",
          "name": "stdout",
          "text": [
            "(6, 2)\n",
            "(2, 2)\n",
            "(6,)\n",
            "(2,)\n",
            "[[300  10]\n",
            " [270   8]]\n",
            "[120 140]\n"
          ]
        },
        {
          "output_type": "execute_result",
          "data": {
            "text/plain": [
              "array([[300,  10],\n",
              "       [270,   8]])"
            ]
          },
          "metadata": {},
          "execution_count": 1
        }
      ]
    },
    {
      "cell_type": "markdown",
      "metadata": {
        "id": "Vl9t4JBgpDH5"
      },
      "source": [
        "L1 LASSO REGÜLARİZASYON"
      ]
    },
    {
      "cell_type": "code",
      "metadata": {
        "colab": {
          "base_uri": "https://localhost:8080/"
        },
        "id": "H-QaqKphpH_7",
        "outputId": "1c8e82e6-3fc5-4fb1-c15c-408bf9b810de"
      },
      "source": [
        "from sklearn.linear_model import Lasso\n",
        "\n",
        "df=pd.DataFrame(data= {\n",
        "    'metrekare':[100,150,120,300,230],\n",
        "    'bina':[5,2,6,10,3],\n",
        "    'fiyat':[70,90,95,120,110]\n",
        "})\n",
        "\n",
        "x=df.iloc[:,:-1].values\n",
        "y=df.iloc[:,-1].values\n",
        "\n",
        "model=Lasso(alpha=0.1)\n",
        "model.fit(x,y)\n",
        "print(model.coef_)\n",
        "print(model.score(x,y))\n",
        "print(model.intercept_)\n",
        "\n",
        "print(model.predict([[300,9]]))"
      ],
      "execution_count": 3,
      "outputs": [
        {
          "output_type": "stream",
          "name": "stdout",
          "text": [
            "[ 0.21485124 -0.1384319 ]\n",
            "0.8465197737595426\n",
            "59.04662250437324\n",
            "[122.2561077]\n"
          ]
        }
      ]
    },
    {
      "cell_type": "markdown",
      "metadata": {
        "id": "I0IKRk2CqlHI"
      },
      "source": [
        "L2 RİDGE REGÜLARİZASYON"
      ]
    },
    {
      "cell_type": "code",
      "metadata": {
        "colab": {
          "base_uri": "https://localhost:8080/"
        },
        "id": "oLKr_QS1qtK9",
        "outputId": "d9c8130c-278b-442f-c41d-d285b7fa3b72"
      },
      "source": [
        "from sklearn.linear_model import Ridge\n",
        "\n",
        "df=pd.DataFrame(data= {\n",
        "    'metrekare':[100,150,120,300,230],\n",
        "    'bina':[5,2,6,10,3],\n",
        "    'fiyat':[70,90,95,120,110]\n",
        "})\n",
        "\n",
        "x=df.iloc[:,:-1].values\n",
        "y=df.iloc[:,-1].values\n",
        "\n",
        "model=Ridge(alpha=0.1)\n",
        "model.fit(x,y)\n",
        "\n",
        "print(model.coef_)\n",
        "print(model.score(x,y))\n",
        "print(model.intercept_)\n",
        "model.predict([[300,9]])"
      ],
      "execution_count": 8,
      "outputs": [
        {
          "output_type": "stream",
          "name": "stdout",
          "text": [
            "[ 0.21519658 -0.15563458]\n",
            "0.8465258890938407\n",
            "59.07391617007209\n"
          ]
        },
        {
          "output_type": "execute_result",
          "data": {
            "text/plain": [
              "array([122.23217769])"
            ]
          },
          "metadata": {},
          "execution_count": 8
        }
      ]
    },
    {
      "cell_type": "code",
      "metadata": {
        "id": "JKMjDYy6pPfU"
      },
      "source": [
        ""
      ],
      "execution_count": null,
      "outputs": []
    }
  ]
}